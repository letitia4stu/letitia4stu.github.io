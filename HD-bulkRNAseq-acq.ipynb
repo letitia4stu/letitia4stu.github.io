{
 "cells": [
  {
   "cell_type": "code",
   "execution_count": 3,
   "metadata": {
    "collapsed": true
   },
   "outputs": [
    {
     "data": {
      "text/plain": "\"\\ndatabase:\\n['pubmed', 'protein', 'nucleotide', 'nuccore', 'nucgss', 'nucest',\\n'structure', 'genome', 'books', 'cancerchromosomes', 'cdd', 'gap',\\n'domains', 'gene', 'genomeprj', 'gensat', 'geo', 'gds', 'homologene',\\n'journals', 'mesh', 'ncbisearch', 'nlmcatalog', 'omia', 'omim', 'pmc',\\n'popset', 'probe', 'proteinclusters', 'pcassay', 'pccompound',\\n'pcsubstance', 'snp', 'taxonomy', 'toolkit', 'unigene', 'unists']\\n\""
     },
     "execution_count": 3,
     "metadata": {},
     "output_type": "execute_result"
    }
   ],
   "source": [
    "from Bio import Entrez\n",
    "import os,sys\n",
    "from Bio.Seq import Seq\n",
    "from Bio.SeqRecord import SeqRecord\n",
    "from Bio.SeqFeature import SeqFeature, FeatureLocation\n",
    "from Bio import SeqIO\n",
    "import sys, os, argparse, os.path,re,math,time\n",
    "'''\n",
    "database:\n",
    "['pubmed', 'protein', 'nucleotide', 'nuccore', 'nucgss', 'nucest',\n",
    "'structure', 'genome', 'books', 'cancerchromosomes', 'cdd', 'gap',\n",
    "'domains', 'gene', 'genomeprj', 'gensat', 'geo', 'gds', 'homologene',\n",
    "'journals', 'mesh', 'ncbisearch', 'nlmcatalog', 'omia', 'omim', 'pmc',\n",
    "'popset', 'probe', 'proteinclusters', 'pcassay', 'pccompound',\n",
    "'pcsubstance', 'snp', 'taxonomy', 'toolkit', 'unigene', 'unists']\n",
    "'''"
   ]
  },
  {
   "cell_type": "code",
   "execution_count": null,
   "outputs": [],
   "source": [
    "parser = argparse.ArgumentParser(description='This script is used to fasta from ncbi ')\n",
    "parser.add_argument('-t','--term',help='input search  term : https://www.ncbi.nlm.nih.gov/books/NBK3837/#_EntrezHelp_Entrez_Searching_Options_',required=True)\n",
    "parser.add_argument('-d','--database',help='Please input database to search nucleotide or protein  default nucleotide',default = 'nucleotide',required=False)\n",
    "parser.add_argument('-r','--rettype',help='return type fasta or gb default gb',default = \"gb\",required=False)\n",
    "parser.add_argument('-o','--out_dir',help='Please input  out_put directory path',default = os.getcwd(),required=False)\n",
    "parser.add_argument('-n','--name',default ='seq',required=False,help='Please specify the output, seq')\n",
    "args = parser.parse_args()\n",
    "dout=''"
   ],
   "metadata": {
    "collapsed": false
   }
  },
  {
   "cell_type": "code",
   "execution_count": 1,
   "outputs": [
    {
     "ename": "SyntaxError",
     "evalue": "Missing parentheses in call to 'print'. Did you mean print(i+'\\n')? (402980585.py, line 39)",
     "output_type": "error",
     "traceback": [
      "\u001B[0;36m  Input \u001B[0;32mIn [1]\u001B[0;36m\u001B[0m\n\u001B[0;31m    print i+'\\n'\u001B[0m\n\u001B[0m          ^\u001B[0m\n\u001B[0;31mSyntaxError\u001B[0m\u001B[0;31m:\u001B[0m Missing parentheses in call to 'print'. Did you mean print(i+'\\n')?\n"
     ]
    }
   ],
   "source": [
    "from pathlib import *\n",
    "if os.path.exists(args.out_dir):\n",
    "    dout=os.path.abspath(args.out_dir)\n",
    "else:\n",
    "    os.mkdir(args.out_dir)\n",
    "    dout=os.path.abspath(args.out_dir)\n",
    "output_handle = open(dout+'/'+args.name+'.%s'%args.rettype, \"w\")\n",
    "Entrez.email = \"huangls@biomics.com.cn\"     # Always tell NCBI who you are\n",
    "#handle = Entrez.efetch(db=\"nucleotide\", id=\"EU490707\", rettype=\"gb\", retmode=\"text\")\n",
    "#print(handle.read())\n",
    "handle = Entrez.esearch(db=args.database, term=args.term, idtype=\"acc\")\n",
    "record = Entrez.read(handle)\n",
    "\n",
    "for i in record['IdList']:\n",
    "    print i+'\\n'\n",
    "    handle = Entrez.efetch(db=args.database, id=i, rettype=args.rettype, retmode=\"text\")\n",
    "    #print(handle.read())\n",
    "    record = SeqIO.read(handle, args.rettype)\n",
    "    SeqIO.write(record, output_handle, args.rettype)\n",
    "\n",
    "output_handle.close()"
   ],
   "metadata": {
    "collapsed": false
   }
  },
  {
   "cell_type": "code",
   "execution_count": null,
   "outputs": [],
   "source": [],
   "metadata": {
    "collapsed": false
   }
  }
 ],
 "metadata": {
  "kernelspec": {
   "display_name": "Python 3",
   "language": "python",
   "name": "python3"
  },
  "language_info": {
   "codemirror_mode": {
    "name": "ipython",
    "version": 2
   },
   "file_extension": ".py",
   "mimetype": "text/x-python",
   "name": "python",
   "nbconvert_exporter": "python",
   "pygments_lexer": "ipython2",
   "version": "2.7.6"
  }
 },
 "nbformat": 4,
 "nbformat_minor": 0
}
